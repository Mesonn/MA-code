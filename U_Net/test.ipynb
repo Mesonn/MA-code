{
 "cells": [
  {
   "cell_type": "code",
   "execution_count": 1,
   "metadata": {},
   "outputs": [
    {
     "data": {
      "text/plain": [
       "'svg'"
      ]
     },
     "execution_count": 1,
     "metadata": {},
     "output_type": "execute_result"
    }
   ],
   "source": [
    "import config \n",
    "import dataset\n",
    "from patchify import patchify,unpatchify\n",
    "import albumentations as A\n",
    "import cv2\n",
    "from model import UNet\n",
    "import utils\n",
    "import torch\n",
    "import torchvision\n",
    "import matplotlib.pyplot as plt\n",
    "import pandas as pd\n",
    "import numpy as np\n",
    "from torchview import draw_graph\n",
    "import graphviz\n",
    "import os \n",
    "graphviz.set_jupyter_format('png')"
   ]
  },
  {
   "cell_type": "code",
   "execution_count": 2,
   "metadata": {},
   "outputs": [],
   "source": [
    "#train_8_data = utils.get_all_metrics(\"/home/gizmoo/Desktop/MA-code/U_Net/logs/log_20240118_150203\",list(config.METRICS.keys()),dset=\"Train\")\n",
    "#test_8_data = utils.get_all_metrics(\"/home/gizmoo/Desktop/MA-code/U_Net/logs/log_20240118_150203\",list(config.METRICS.keys()),dset=\"Validation\")\n",
    "#train_16_data = utils.get_all_metrics(\"/home/gizmoo/Desktop/MA-code/U_Net/logs/log_20240120_140413\",list(config.METRICS.keys()),dset=\"Train\")\n",
    "#test_16_data =  utils.get_all_metrics(\"/home/gizmoo/Desktop/MA-code/U_Net/logs/log_20240120_140413\",list(config.METRICS.keys()),dset=\"Validation\")\n",
    "#utils.get_all_metrics(\"/home/gizmoo/Desktop/MA-code/U_Net/logs/log_20240118_150203\",list(config.METRICS.keys()),dset=\"Validation\")\n",
    "#utils.plot_two_logs(train_8_data,test_8_data,train_16_data,test_16_data,config.CURVES_DIR)\n",
    "#utils.plot_all_metrics(train_16_data,test_16_data,config.CURVES_DIR)\n",
    "#utils.plot_individual_metrics(train_16_data,test_16_data,config.CURVES_DIR)\n"
   ]
  },
  {
   "cell_type": "code",
   "execution_count": 11,
   "metadata": {},
   "outputs": [
    {
     "name": "stdout",
     "output_type": "stream",
     "text": [
      "=> Loading checkpoint\n"
     ]
    }
   ],
   "source": [
    "corped, pred = utils.make_UNet_prediction(\"/home/gizmoo/Desktop/orig_Dataset/image Sequences/Blockface_RGB/Blockface_RGB_66x66x60um_s841-s1083_234s0175.png\",\n",
    "                                          (256,256,3),\n",
    "                                          \"/home/gizmoo/Desktop/MA-code/U_Net/saves/save_20240110_134901/unet.pth.tar\")\n",
    "mask = utils.corp_mask(\"/home/gizmoo/Desktop/orig_Dataset/image Sequences/Bface_Mask/Blockface-Mask_66x66x60um_s841-s1083_234s0175.png\",(256,256))\n",
    "utils.plot_image_mask_pred(corped,mask,pred,config.CURVES_DIR)"
   ]
  }
 ],
 "metadata": {
  "kernelspec": {
   "display_name": "tork",
   "language": "python",
   "name": "python3"
  },
  "language_info": {
   "codemirror_mode": {
    "name": "ipython",
    "version": 3
   },
   "file_extension": ".py",
   "mimetype": "text/x-python",
   "name": "python",
   "nbconvert_exporter": "python",
   "pygments_lexer": "ipython3",
   "version": "3.9.18"
  }
 },
 "nbformat": 4,
 "nbformat_minor": 2
}
