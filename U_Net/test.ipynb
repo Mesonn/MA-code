{
 "cells": [
  {
   "cell_type": "code",
   "execution_count": 1,
   "metadata": {},
   "outputs": [
    {
     "name": "stderr",
     "output_type": "stream",
     "text": [
      "/home/gizmoo/anaconda3/envs/tork/lib/python3.9/site-packages/torch/cuda/__init__.py:138: UserWarning: CUDA initialization: Unexpected error from cudaGetDeviceCount(). Did you run some cuda functions before calling NumCudaDevices() that might have already set an error? Error 804: forward compatibility was attempted on non supported HW (Triggered internally at ../c10/cuda/CUDAFunctions.cpp:108.)\n",
      "  return torch._C._cuda_getDeviceCount() > 0\n"
     ]
    },
    {
     "data": {
      "text/plain": [
       "'svg'"
      ]
     },
     "execution_count": 1,
     "metadata": {},
     "output_type": "execute_result"
    }
   ],
   "source": [
    "import config \n",
    "import dataset\n",
    "from patchify import patchify,unpatchify\n",
    "import albumentations as A\n",
    "import cv2\n",
    "from model import UNet\n",
    "import utils\n",
    "import torch\n",
    "import torchvision\n",
    "import matplotlib.pyplot as plt\n",
    "import pandas as pd\n",
    "import numpy as np\n",
    "from torchview import draw_graph\n",
    "import graphviz\n",
    "import os \n",
    "graphviz.set_jupyter_format('png')"
   ]
  },
  {
   "cell_type": "code",
   "execution_count": 2,
   "metadata": {},
   "outputs": [
    {
     "name": "stdout",
     "output_type": "stream",
     "text": [
      "max Accuracy = 0.9828639318004422 \n",
      "max IoU = 0.970729814480049 \n",
      "max Dice = 0.9851473689280568 \n"
     ]
    }
   ],
   "source": [
    "train_8_data = utils.get_all_metrics(\"/home/gizmoo/Desktop/MA-code/U_Net/logs/log_20240118_150203\",list(config.METRICS.keys()),dset=\"Train\")\n",
    "test_8_data = utils.get_all_metrics(\"/home/gizmoo/Desktop/MA-code/U_Net/logs/log_20240118_150203\",list(config.METRICS.keys()),dset=\"Validation\")\n",
    "train_16_data = utils.get_all_metrics(\"/home/gizmoo/Desktop/MA-code/U_Net/logs/log_20240120_140413\",list(config.METRICS.keys()),dset=\"Train\")\n",
    "test_16_data =  utils.get_all_metrics(\"/home/gizmoo/Desktop/MA-code/U_Net/logs/log_20240120_140413\",list(config.METRICS.keys()),dset=\"Validation\")\n",
    "#utils.get_all_metrics(\"/home/gizmoo/Desktop/MA-code/U_Net/logs/log_20240118_150203\",list(config.METRICS.keys()),dset=\"Validation\")\n",
    "#utils.plot_two_logs(train_8_data,test_8_data,train_16_data,test_16_data,config.CURVES_DIR)\n",
    "#utils.plot_all_metrics(train_16_data,test_16_data,config.CURVES_DIR)\n",
    "utils.plot_individual_metrics(train_16_data,test_16_data,config.CURVES_DIR)"
   ]
  }
 ],
 "metadata": {
  "kernelspec": {
   "display_name": "tork",
   "language": "python",
   "name": "python3"
  },
  "language_info": {
   "codemirror_mode": {
    "name": "ipython",
    "version": 3
   },
   "file_extension": ".py",
   "mimetype": "text/x-python",
   "name": "python",
   "nbconvert_exporter": "python",
   "pygments_lexer": "ipython3",
   "version": "3.9.18"
  }
 },
 "nbformat": 4,
 "nbformat_minor": 2
}
