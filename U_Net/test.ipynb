{
 "cells": [
  {
   "cell_type": "code",
   "execution_count": 1,
   "metadata": {},
   "outputs": [
    {
     "name": "stderr",
     "output_type": "stream",
     "text": [
      "/home/gizmoo/anaconda3/envs/tork/lib/python3.9/site-packages/torch/cuda/__init__.py:138: UserWarning: CUDA initialization: Unexpected error from cudaGetDeviceCount(). Did you run some cuda functions before calling NumCudaDevices() that might have already set an error? Error 804: forward compatibility was attempted on non supported HW (Triggered internally at ../c10/cuda/CUDAFunctions.cpp:108.)\n",
      "  return torch._C._cuda_getDeviceCount() > 0\n"
     ]
    },
    {
     "data": {
      "text/plain": [
       "'svg'"
      ]
     },
     "execution_count": 1,
     "metadata": {},
     "output_type": "execute_result"
    }
   ],
   "source": [
    "import config \n",
    "import dataset\n",
    "from patchify import patchify,unpatchify\n",
    "import cv2\n",
    "from model import UNet\n",
    "import utils\n",
    "import torch\n",
    "import torchvision\n",
    "import matplotlib.pyplot as plt\n",
    "import pandas as pd\n",
    "import numpy as np\n",
    "from torchview import draw_graph\n",
    "import graphviz\n",
    "import os \n",
    "graphviz.set_jupyter_format('png')"
   ]
  },
  {
   "cell_type": "code",
   "execution_count": 2,
   "metadata": {},
   "outputs": [],
   "source": [
    "img_path = \"/home/gizmoo/Desktop/Seg/Masks/\"\n",
    "img_patches_path = \"/home/gizmoo/Desktop/Seg/Masks_patches/\"\n",
    "patch_size = (256,256)"
   ]
  },
  {
   "cell_type": "code",
   "execution_count": 3,
   "metadata": {},
   "outputs": [],
   "source": [
    "#utils.generate_mask_patches(img_path,img_patches_path,patch_size)\n",
    "#utils.generate_image_patches(mask_path,mask_patches_path,patch_size)\n",
    "#utils.concatenate_images(img_patches_path,mask_patches_path,output_path)\n"
   ]
  },
  {
   "cell_type": "code",
   "execution_count": 4,
   "metadata": {},
   "outputs": [],
   "source": [
    "def corp_image(image,patch_size):\n",
    "    patch_size_x , patch_size_y,channels = patch_size\n",
    "    if patch_size_x > image.shape[1] or patch_size_y > image.shape[0]:\n",
    "        raise ValueError(\"Patch size is larger than image size\")\n",
    "    SIZE_X = (image.shape[1]//patch_size_x)*patch_size_x\n",
    "    SIZE_Y = (image.shape[0]//patch_size_y)*patch_size_y\n",
    "    rest_pixels_x = image.shape[1] - SIZE_X\n",
    "    rest_pixels_y = image.shape[0] - SIZE_Y\n",
    "    origin_x = rest_pixels_x // 2\n",
    "    origin_y = rest_pixels_y // 2\n",
    "    corped_image = image[origin_y:origin_y+SIZE_Y, origin_x:origin_x+SIZE_X]\n",
    "    return corped_image\n",
    "\n",
    "def denormalize(tensor, mean, std):\n",
    "    for t, m, s in zip(tensor, mean, std):\n",
    "        t = t*s + m\n",
    "    return tensor\n",
    "\n",
    "\n",
    "# def make_prediction(image_patches,model, optimizer ,checkpoint_file):\n",
    "#     image_prediction = []\n",
    "#     utils.load_checkpoint(checkpoint_file,model = model ,optimizer=optimizer,lr  = config.LEARNING_RATE)\n",
    "#     #model.load_state_dict(torch.load(weights)[0])\n",
    "#     model.eval()\n",
    "#     for i in range(image_patches.shape[0]):\n",
    "#         for j in range(image_patches.shape[1]):\n",
    "#             patch = image_patches[i,j,:,:]\n",
    "#             patch = patch.squeeze()\n",
    "#             print(patch.shape)\n",
    "#             patch = config.val_transforms(image = patch)[\"image\"]\n",
    "#             print(patch.shape)\n",
    "            \n",
    "#             with torch.no_grad():\n",
    "#                 patch = patch.unsqueeze(0).to(device = config.DEVICE) \n",
    "#                 prediction = torch.sigmoid(model(patch))\n",
    "#                 prediction = (prediction > 0.5).float()\n",
    "#                 #print(prediction)\n",
    "#                 image_prediction.append(prediction.cpu().numpy())\n",
    "#     image_prediction = np.array(image_prediction).squeeze(1)\n",
    "#     image_prediction = image_prediction.reshape(image_patches.shape[0],image_patches.shape[1],patch_size[0], patch_size[1])\n",
    "#     target_image_shape = (512,512)\n",
    "#     print(image_prediction.shape)\n",
    "\n",
    "#     merged_image = unpatchify(image_prediction,target_image_shape) \n",
    "#     print(merged_image.shape)   \n",
    "#     return merged_image\n",
    "\n",
    "\n",
    "\n",
    "# image_path = \"/home/gizmoo/Desktop/Seg/Bface/Blockface_RGB_66x66x60um_s841-s1083_234s0047.png\"\n",
    "# image = cv2.imread(image_path,cv2.IMREAD_COLOR)\n",
    "# image = cv2.cvtColor(image, cv2.COLOR_BGR2RGB)\n",
    "# print(image.shape)\n",
    "# patch_size = (256,256,3)\n",
    "# corped_image = corp_image(image,patch_size)\n",
    "# print(corped_image.shape)\n",
    "# image_patches = patchify(corped_image,patch_size,step = patch_size[0])\n",
    "# print(image_patches.shape)\n",
    "# model = UNet(in_channels=3 , out_channels=1).to(device = config.DEVICE)\n",
    "# optimizer = torch.optim.Adam(model.parameters(),lr =config.LEARNING_RATE)\n",
    "# merged_image = make_prediction( image_patches, model,optimizer ,checkpoint_file = \"/home/gizmoo/Desktop/MA-code/U_Net/saves/save_20240110_134901/unet.pth.tar\" )\n",
    "# #print(predicted_image.shape)\n",
    "# merged_image = denormalize(merged_image, [0.0, 0.0, 0.0], [1.0, 1.0, 1.0])\n",
    "# merged_image = merged_image * 255\n",
    "# merged_image = merged_image.astype(np.uint8)\n",
    "# plt.imshow(merged_image)"
   ]
  },
  {
   "cell_type": "code",
   "execution_count": 5,
   "metadata": {},
   "outputs": [
    {
     "name": "stdout",
     "output_type": "stream",
     "text": [
      "=> Loading checkpoint\n"
     ]
    }
   ],
   "source": [
    "patch_size = (256,256,3)\n",
    "image_path = \"/home/gizmoo/Desktop/Seg/Bface/Blockface_RGB_66x66x60um_s841-s1083_234s0047.png\"\n",
    "checkpoint_file = \"/home/gizmoo/Desktop/MA-code/U_Net/saves/save_20240110_134901/unet.pth.tar\"\n",
    "save_image = True\n",
    "save_dir = \"/home/gizmoo/Desktop/results\"\n",
    "def make_UNet_prediction(image_path, patch_size,checkpoint_file,save_images = False, save_dir =None):\n",
    "    image = cv2.imread(image_path,cv2.IMREAD_COLOR)\n",
    "    image = cv2.cvtColor(image, cv2.COLOR_BGR2RGB)\n",
    "    corped_image = corp_image(image,patch_size)\n",
    "    image_patches = patchify(corped_image,patch_size,step = patch_size[0])\n",
    "    model = UNet(in_channels=3 , out_channels=1).to(device = config.DEVICE)\n",
    "    optimizer = torch.optim.Adam(model.parameters(),lr =config.LEARNING_RATE)\n",
    "    image_prediction = []\n",
    "    utils.load_checkpoint(checkpoint_file,model = model ,optimizer=optimizer,lr  = config.LEARNING_RATE)\n",
    "    #model.load_state_dict(torch.load(weights)[0])\n",
    "    model.eval()\n",
    "    for i in range(image_patches.shape[0]):\n",
    "        for j in range(image_patches.shape[1]):\n",
    "            patch = image_patches[i,j,:,:]\n",
    "            patch = patch.squeeze()\n",
    "            patch = config.val_transforms(image = patch)[\"image\"]\n",
    "            with torch.no_grad():\n",
    "                patch = patch.unsqueeze(0).to(device = config.DEVICE) \n",
    "                prediction = torch.sigmoid(model(patch))\n",
    "                prediction = (prediction > 0.5).float()\n",
    "                image_prediction.append(prediction.cpu().numpy())\n",
    "    image_prediction = np.array(image_prediction).squeeze(1)\n",
    "    image_prediction = image_prediction.reshape(image_patches.shape[0],image_patches.shape[1],patch_size[0], patch_size[1])\n",
    "    target_image_shape = (corped_image.shape[0],corped_image.shape[1])\n",
    "    merged_image = unpatchify(image_prediction,target_image_shape)\n",
    "    merged_image = denormalize(merged_image, [0.0, 0.0, 0.0], [1.0, 1.0, 1.0])\n",
    "    merged_image = merged_image * 255\n",
    "    merged_image = merged_image.astype(np.uint8)\n",
    "    if save_images and save_dir is not None:\n",
    "        # Ensure the save directory exists\n",
    "        os.makedirs(save_dir, exist_ok=True)\n",
    "\n",
    "        # Save the cropped image as an RGB image\n",
    "        cropped_image_path = os.path.join(save_dir, 'cropped_image.png')\n",
    "        cv2.imwrite(cropped_image_path, cv2.cvtColor(corped_image, cv2.COLOR_RGB2BGR))\n",
    "\n",
    "        # Save the merged prediction image as a grayscale image\n",
    "        merged_image_path = os.path.join(save_dir, 'merged_image.png')\n",
    "        cv2.imwrite(merged_image_path, merged_image)\n",
    "\n",
    "    return corped_image, merged_image\n",
    "\n",
    "\n",
    "x,y = make_UNet_prediction(image_path=image_path, patch_size=patch_size, checkpoint_file= checkpoint_file, save_images=True, save_dir= save_dir)"
   ]
  }
 ],
 "metadata": {
  "kernelspec": {
   "display_name": "tork",
   "language": "python",
   "name": "python3"
  },
  "language_info": {
   "codemirror_mode": {
    "name": "ipython",
    "version": 3
   },
   "file_extension": ".py",
   "mimetype": "text/x-python",
   "name": "python",
   "nbconvert_exporter": "python",
   "pygments_lexer": "ipython3",
   "version": "3.9.18"
  }
 },
 "nbformat": 4,
 "nbformat_minor": 2
}
