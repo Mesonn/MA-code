{
 "cells": [
  {
   "cell_type": "code",
   "execution_count": 4,
   "metadata": {},
   "outputs": [
    {
     "data": {
      "text/plain": [
       "'png'"
      ]
     },
     "execution_count": 4,
     "metadata": {},
     "output_type": "execute_result"
    }
   ],
   "source": [
    "import config \n",
    "import Dataset\n",
    "from Discriminator import Discriminator\n",
    "from Generator import Generator\n",
    "from tensorboard.backend.event_processing.event_accumulator import EventAccumulator\n",
    "import utils\n",
    "import torch\n",
    "import torchvision\n",
    "import matplotlib.pyplot as plt\n",
    "import pandas as pd\n",
    "import numpy as np\n",
    "from torchview import draw_graph\n",
    "import albumentations as A\n",
    "from albumentations.pytorch import ToTensorV2\n",
    "import graphviz\n",
    "import seaborn as sns\n",
    "import os \n",
    "import cv2\n",
    "from patchify import patchify, unpatchify\n",
    "graphviz.set_jupyter_format('png')"
   ]
  },
  {
   "cell_type": "code",
   "execution_count": 8,
   "metadata": {},
   "outputs": [],
   "source": [
    "gan_checkpoint = \"/home/gizmoo/Desktop/MA-code/Gen_L1_GS/saves/unet_save/gen.pth.tar\"\n",
    "image = \"/home/gizmoo/Desktop/BFACE/Masked_BFACE/Result of Blockface_RGB_66x66x60um_s841-s1083_234s0185.png\"\n",
    "trans = \"/home/gizmoo/Desktop/BFACE/Masked_Transmittance/Result of Transmittance_66x66x60um_234s0185.png\"\n",
    "#utils.make_UNet_prediction(image,trans,(256,256,3),gan_checkpoint,config.CURVES_DIR)\n",
    "def rename_directories(root_dir):\n",
    "    # Counter for directory names\n",
    "    dir_counter = 1\n",
    "\n",
    "    # Walk through every directory and subdirectory\n",
    "    for dirpath, dirnames, filenames in os.walk(root_dir):\n",
    "        for dirname in dirnames:\n",
    "            # Construct the original directory path\n",
    "            original_dir_path = os.path.join(dirpath, dirname)\n",
    "            \n",
    "            # Construct the new directory path\n",
    "            new_dir_path = os.path.join(dirpath, str(dir_counter))\n",
    "            \n",
    "            # Rename the directory\n",
    "            os.rename(original_dir_path, new_dir_path)\n",
    "            \n",
    "            # Increment the counter\n",
    "            dir_counter += 1\n",
    "\n",
    "rename_directories(\"/home/gizmoo/Desktop/God_UNet/p2pRGB/output/\")                       "
   ]
  }
 ],
 "metadata": {
  "kernelspec": {
   "display_name": "tork",
   "language": "python",
   "name": "python3"
  },
  "language_info": {
   "codemirror_mode": {
    "name": "ipython",
    "version": 3
   },
   "file_extension": ".py",
   "mimetype": "text/x-python",
   "name": "python",
   "nbconvert_exporter": "python",
   "pygments_lexer": "ipython3",
   "version": "3.9.18"
  }
 },
 "nbformat": 4,
 "nbformat_minor": 2
}
