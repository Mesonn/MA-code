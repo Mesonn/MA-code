{
 "cells": [
  {
   "cell_type": "code",
   "execution_count": 1,
   "metadata": {},
   "outputs": [
    {
     "data": {
      "text/plain": [
       "'svg'"
      ]
     },
     "execution_count": 1,
     "metadata": {},
     "output_type": "execute_result"
    }
   ],
   "source": [
    "import config \n",
    "import Dataset\n",
    "from Discriminator import Discriminator\n",
    "from Generator import Generator\n",
    "import utils\n",
    "import torch\n",
    "import torchvision\n",
    "import matplotlib.pyplot as plt\n",
    "import pandas as pd\n",
    "import numpy as np\n",
    "from torchview import draw_graph\n",
    "import albumentations as A\n",
    "from albumentations.pytorch import ToTensorV2\n",
    "import graphviz\n",
    "import os \n",
    "import cv2\n",
    "from patchify import patchify, unpatchify\n",
    "graphviz.set_jupyter_format('png')"
   ]
  },
  {
   "cell_type": "code",
   "execution_count": 2,
   "metadata": {},
   "outputs": [],
   "source": [
    "transpose_transform = A.Compose([A.Transpose(p=1)], additional_targets={\"trans\":\"image\"})\n",
    "shift_scale_rotate_transform = A.Compose([A.ShiftScaleRotate(shift_limit=0.0625, scale_limit=0.1, rotate_limit=45, p=1)], additional_targets={\"trans\":\"image\"})\n",
    "rotate_transform = A.Compose([A.Rotate(limit=35, p=1)], additional_targets={\"trans\":\"image\"})\n",
    "random_rotate_transform = A.Compose([A.RandomRotate90(p=1)], additional_targets={\"trans\":\"image\"})\n",
    "horizontal_flip_transform = A.Compose([A.HorizontalFlip(p=1)], additional_targets={\"trans\":\"image\"})\n",
    "vertical_flip_transform = A.Compose([A.VerticalFlip(p=1)], additional_targets={\"trans\":\"image\"})\n",
    "transforms_list = [\n",
    "    (\"transpose\", transpose_transform),\n",
    "    (\"shift_scale_rotate\", shift_scale_rotate_transform),\n",
    "    (\"rotate\", rotate_transform),\n",
    "    (\"random_rotate\", random_rotate_transform),\n",
    "    (\"horizontal_flip\", horizontal_flip_transform),\n",
    "    (\"vertical_flip\", vertical_flip_transform)\n",
    "]\n",
    "def apply_and_save_transforms(image_path, save_dir):\n",
    "    image = cv2.imread(image_path)\n",
    "    image_name = image_path.split('/')[-1].split('.')[0]  # Extract image name without extension\n",
    "    for transform_name, transform in transforms_list:\n",
    "        transformed_image = transform(image=image)[\"image\"]\n",
    "        save_path = os.path.join(save_dir, f\"{image_name}_{transform_name}.png\")\n",
    "        cv2.imwrite(save_path, transformed_image)\n",
    "\n",
    "        "
   ]
  },
  {
   "cell_type": "code",
   "execution_count": 5,
   "metadata": {},
   "outputs": [],
   "source": [
    "apply_and_save_transforms(\"/home/gizmoo/Desktop/MA-code/Pix2Pix_RGB/dataset/train/bface/image_0_patch_0,0.png\",\n",
    "                          \"/home/gizmoo/Desktop/curves1/\")"
   ]
  }
 ],
 "metadata": {
  "kernelspec": {
   "display_name": "tork",
   "language": "python",
   "name": "python3"
  },
  "language_info": {
   "codemirror_mode": {
    "name": "ipython",
    "version": 3
   },
   "file_extension": ".py",
   "mimetype": "text/x-python",
   "name": "python",
   "nbconvert_exporter": "python",
   "pygments_lexer": "ipython3",
   "version": "3.9.18"
  }
 },
 "nbformat": 4,
 "nbformat_minor": 2
}
